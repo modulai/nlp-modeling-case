{
 "cells": [
  {
   "cell_type": "code",
   "execution_count": 27,
   "metadata": {},
   "outputs": [],
   "source": [
    "import pandas as pd\n",
    "import numpy as np"
   ]
  },
  {
   "cell_type": "code",
   "execution_count": 28,
   "metadata": {},
   "outputs": [
    {
     "data": {
      "text/html": [
       "<div>\n",
       "<style scoped>\n",
       "    .dataframe tbody tr th:only-of-type {\n",
       "        vertical-align: middle;\n",
       "    }\n",
       "\n",
       "    .dataframe tbody tr th {\n",
       "        vertical-align: top;\n",
       "    }\n",
       "\n",
       "    .dataframe thead th {\n",
       "        text-align: right;\n",
       "    }\n",
       "</style>\n",
       "<table border=\"1\" class=\"dataframe\">\n",
       "  <thead>\n",
       "    <tr style=\"text-align: right;\">\n",
       "      <th></th>\n",
       "      <th>is_positive</th>\n",
       "      <th>id</th>\n",
       "      <th>datetime</th>\n",
       "      <th>user</th>\n",
       "      <th>message</th>\n",
       "      <th>bart_is_positive</th>\n",
       "    </tr>\n",
       "  </thead>\n",
       "  <tbody>\n",
       "    <tr>\n",
       "      <th>0</th>\n",
       "      <td>0</td>\n",
       "      <td>2200003313</td>\n",
       "      <td>Tue Jun 16 18:18:13 PDT 2009</td>\n",
       "      <td>DEWGetMeTho77</td>\n",
       "      <td>@Nkluvr4eva My poor little dumpling  In Holmde...</td>\n",
       "      <td>0.005163</td>\n",
       "    </tr>\n",
       "    <tr>\n",
       "      <th>1</th>\n",
       "      <td>0</td>\n",
       "      <td>1467998601</td>\n",
       "      <td>Mon Apr 06 23:11:18 PDT 2009</td>\n",
       "      <td>Young_J</td>\n",
       "      <td>I'm off too bed. I gotta wake up hella early t...</td>\n",
       "      <td>0.339430</td>\n",
       "    </tr>\n",
       "    <tr>\n",
       "      <th>2</th>\n",
       "      <td>0</td>\n",
       "      <td>2300049112</td>\n",
       "      <td>Tue Jun 23 13:40:12 PDT 2009</td>\n",
       "      <td>dougnawoschik</td>\n",
       "      <td>I havent been able to listen to it yet  My spe...</td>\n",
       "      <td>0.065703</td>\n",
       "    </tr>\n",
       "  </tbody>\n",
       "</table>\n",
       "</div>"
      ],
      "text/plain": [
       "   is_positive          id                      datetime           user  \\\n",
       "0            0  2200003313  Tue Jun 16 18:18:13 PDT 2009  DEWGetMeTho77   \n",
       "1            0  1467998601  Mon Apr 06 23:11:18 PDT 2009        Young_J   \n",
       "2            0  2300049112  Tue Jun 23 13:40:12 PDT 2009  dougnawoschik   \n",
       "\n",
       "                                             message  bart_is_positive  \n",
       "0  @Nkluvr4eva My poor little dumpling  In Holmde...          0.005163  \n",
       "1  I'm off too bed. I gotta wake up hella early t...          0.339430  \n",
       "2  I havent been able to listen to it yet  My spe...          0.065703  "
      ]
     },
     "execution_count": 28,
     "metadata": {},
     "output_type": "execute_result"
    }
   ],
   "source": [
    "# Load the small dataset to see what it looks like\n",
    "df_small = pd.read_csv(\"data/twitter_dataset_small_w_bart_preds.csv\")\n",
    "df_small.head(3)"
   ]
  },
  {
   "cell_type": "code",
   "execution_count": 29,
   "metadata": {},
   "outputs": [
    {
     "name": "stdout",
     "output_type": "stream",
     "text": [
      "Number of positive tweets: 10058\n",
      "Number of negative tweets: 9942\n"
     ]
    }
   ],
   "source": [
    "# We can start by looking at some basic stats of how many tweets are positive and how many are negative\n",
    "positive_tweets = df_small[df_small.is_positive == 1]\n",
    "negative_tweets = df_small[df_small.is_positive == 0]\n",
    "\n",
    "# count tweets by looking at the number of rows\n",
    "no_positive_tweets = positive_tweets.shape[0]\n",
    "no_negative_tweets = negative_tweets.shape[0]\n",
    "\n",
    "print('Number of positive tweets: {}'.format(no_positive_tweets))\n",
    "print('Number of negative tweets: {}'.format(no_negative_tweets))"
   ]
  },
  {
   "cell_type": "code",
   "execution_count": 30,
   "metadata": {},
   "outputs": [
    {
     "data": {
      "text/plain": [
       "array(['on lunch....dj should come eat with me ',\n",
       "       \"@TamaraSchilling Adventure - That's what we all need in our life. I am glad you had a great week. Thanks for yr response \",\n",
       "       \"@PerezHilton Zach makes me pee sitting down! And I'm a grown gay man! \",\n",
       "       'to sum up my day in one word ......... kackered! ',\n",
       "       '@k9wkj Great minds think alike ',\n",
       "       '@LochNessCullen thanks for the follow!  how are you nessie? ',\n",
       "       '@SallyGreene @andrewtc04 @Syondeli thanks guys, added a couple of love handle inches after tayyabs ',\n",
       "       \"i'm feeling quite sleepy today, wish i could stay in bed today...but OK! is my LAST YEAR, so let's go to school \",\n",
       "       'Whaddup Whaddup Whaddup Whaddup Whaddup  I Got white girl swag from MY HEAD TO MY shOES Whaddup @yungla ',\n",
       "       '@tom_e_white http://my.safaribooksonline.com/9780596521974 -- congrats on getting out the Hadoop book (esp the ZooKeeper chapter  )'],\n",
       "      dtype=object)"
      ]
     },
     "execution_count": 30,
     "metadata": {},
     "output_type": "execute_result"
    }
   ],
   "source": [
    "# We start our analysis by looking at positive tweets\n",
    "positive_tweets.message[0:10].values"
   ]
  },
  {
   "cell_type": "code",
   "execution_count": 31,
   "metadata": {},
   "outputs": [
    {
     "data": {
      "text/plain": [
       "array(['@Nkluvr4eva My poor little dumpling  In Holmdel vids he was really trying...Hope he dont try to hard tonight xx',\n",
       "       \"I'm off too bed. I gotta wake up hella early tomorrow morning. \",\n",
       "       'I havent been able to listen to it yet  My speakers are busted',\n",
       "       'now remembers why solving a relatively big equation with two unknowns is a total pain in the butt ',\n",
       "       'Ate too much, feel sick ',\n",
       "       'Tried to purchase a parked domain through GoDaddy. $70 down the drain  kind of like gambling...',\n",
       "       'Just got back from VA Tech Equine Medical Center...my poor Lilly has to be on stall rest for at least another month ',\n",
       "       \"can't log in to my other twitter account. super bummed \",\n",
       "       \"is very tired and doesn't want to clean anymore \",\n",
       "       \"so sad...   tough game, went into PK's, screw you.\"], dtype=object)"
      ]
     },
     "execution_count": 31,
     "metadata": {},
     "output_type": "execute_result"
    }
   ],
   "source": [
    "# We continue our analysis by looking at negative tweets\n",
    "negative_tweets.message[0:10].values"
   ]
  },
  {
   "cell_type": "code",
   "execution_count": 55,
   "metadata": {},
   "outputs": [
    {
     "name": "stdout",
     "output_type": "stream",
     "text": [
      "BART accuracty at threshold 0.1: 75.75\n",
      "BART accuracty at threshold 0.2: 75.25500000000001\n",
      "BART accuracty at threshold 0.30000000000000004: 74.14\n",
      "BART accuracty at threshold 0.4: 72.885\n",
      "BART accuracty at threshold 0.5: 71.00999999999999\n",
      "BART accuracty at threshold 0.6: 69.11\n",
      "BART accuracty at threshold 0.7000000000000001: 66.445\n",
      "BART accuracty at threshold 0.8: 62.955000000000005\n",
      "BART accuracty at threshold 0.9: 57.835\n"
     ]
    }
   ],
   "source": [
    "# We should calculate accuracy of BART model to have some kind of benchmark to compare against\n",
    "# Let's try different thresholds for the BART predictions to make to positive and negative\n",
    "tresholds = np.arange(0.1,1,0.1)\n",
    "\n",
    "for t in tresholds:\n",
    "    df_small['bart_pred'] = np.where(df_small['bart_is_positive'] > t, 1, 0)\n",
    "    df_small['match_y_bart_pred'] = df_small.bart_pred.eq(df_small.is_positive)\n",
    "    bart_accuracy = df_small.match_y_bart_pred.mean()*100\n",
    "    print('BART accuracty at threshold {}: {}'.format(t, bart_accuracy))"
   ]
  }
 ],
 "metadata": {
  "kernelspec": {
   "display_name": "zerohero",
   "language": "python",
   "name": "python3"
  },
  "language_info": {
   "codemirror_mode": {
    "name": "ipython",
    "version": 3
   },
   "file_extension": ".py",
   "mimetype": "text/x-python",
   "name": "python",
   "nbconvert_exporter": "python",
   "pygments_lexer": "ipython3",
   "version": "3.10.13"
  }
 },
 "nbformat": 4,
 "nbformat_minor": 2
}
