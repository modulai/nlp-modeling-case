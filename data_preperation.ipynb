{
 "cells": [
  {
   "cell_type": "markdown",
   "metadata": {},
   "source": [
    "# Data preparation\n",
    "\n",
    "This notebook is used to prepare the data subset with BART predictions for the case. Download the data using this [link](https://drive.google.com/file/d/13mAaFqCrscUYkoITf4rZ6qG9ptAlIJVb/view?usp=sharing) and place it in the `data` directory."
   ]
  },
  {
   "cell_type": "code",
   "execution_count": null,
   "metadata": {},
   "outputs": [],
   "source": [
    "import pandas as pd\n",
    "from tqdm import tqdm\n",
    "import torch\n",
    "from transformers import BartForSequenceClassification, BartTokenizer\n",
    "\n",
    "DEVICE = \"cuda:0\" if torch.cuda.is_available() else \"cpu\"\n",
    "SEED = 42\n",
    "NUM_SAMPLES = 20_000"
   ]
  },
  {
   "cell_type": "code",
   "execution_count": null,
   "metadata": {},
   "outputs": [],
   "source": [
    "class BartZeroShot:\n",
    "    def __init__(self):\n",
    "        self.nli_model = BartForSequenceClassification.from_pretrained(\n",
    "            \"facebook/bart-large-mnli\"\n",
    "        ).to(DEVICE)\n",
    "        self.tokenizer = BartTokenizer.from_pretrained(\"facebook/bart-large-mnli\")\n",
    "\n",
    "    def predict(self, sentence, label):\n",
    "        x = self.tokenizer.encode(\n",
    "            sentence,\n",
    "            f\"This example is {label}\",\n",
    "            return_tensors=\"pt\",\n",
    "            truncation=\"only_first\",\n",
    "        )\n",
    "        logits = self.nli_model(x.to(DEVICE))[0]\n",
    "\n",
    "        entail_contradiction_logits = logits[:, [0, 2]]\n",
    "        probs = entail_contradiction_logits.softmax(1)\n",
    "        prob_label_is_true = probs[:, 1].item()\n",
    "        return prob_label_is_true"
   ]
  },
  {
   "cell_type": "code",
   "execution_count": null,
   "metadata": {},
   "outputs": [],
   "source": [
    "data_full = pd.read_csv(\"data/twitter_dataset_full.csv\")"
   ]
  },
  {
   "cell_type": "code",
   "execution_count": null,
   "metadata": {},
   "outputs": [],
   "source": [
    "data_small = data_full.sample(n=NUM_SAMPLES, random_state=SEED)"
   ]
  },
  {
   "cell_type": "code",
   "execution_count": null,
   "metadata": {},
   "outputs": [],
   "source": [
    "# Make predictions using the BartZeroShot model\n",
    "model = BartZeroShot()\n",
    "tqdm.pandas()\n",
    "\n",
    "data_small[\"bart_is_positive\"] = data_small.progress_apply(\n",
    "    lambda row: model.predict(row[\"message\"], \"positive\"), axis=1\n",
    ")"
   ]
  },
  {
   "cell_type": "code",
   "execution_count": null,
   "metadata": {},
   "outputs": [],
   "source": [
    "# Save as csv to data folder\n",
    "data_small.to_csv(\"data/twitter_dataset_small_w_bart_preds.csv\", index=False)"
   ]
  }
 ],
 "metadata": {
  "kernelspec": {
   "display_name": "venv",
   "language": "python",
   "name": "python3"
  },
  "language_info": {
   "codemirror_mode": {
    "name": "ipython",
    "version": 3
   },
   "file_extension": ".py",
   "mimetype": "text/x-python",
   "name": "python",
   "nbconvert_exporter": "python",
   "pygments_lexer": "ipython3",
   "version": "3.11.6"
  }
 },
 "nbformat": 4,
 "nbformat_minor": 2
}
