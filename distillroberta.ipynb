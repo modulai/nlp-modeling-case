{
  "cells": [
    {
      "cell_type": "markdown",
      "metadata": {
        "id": "jgUZDSuE1cwz"
      },
      "source": [
        "#Pre-trained DistilRoBERTa for sequence classification"
      ]
    },
    {
      "cell_type": "code",
      "execution_count": 2,
      "metadata": {
        "colab": {
          "base_uri": "https://localhost:8080/"
        },
        "id": "0PmQN3ad0AmZ",
        "outputId": "6f53b2ae-8bd1-42a3-d395-870bc60953d0"
      },
      "outputs": [
        {
          "name": "stdout",
          "output_type": "stream",
          "text": [
            "Requirement already satisfied: accelerate in ./env/lib/python3.11/site-packages (0.26.1)\n",
            "Requirement already satisfied: torch in ./env/lib/python3.11/site-packages (2.1.2)\n",
            "Requirement already satisfied: scikit-learn in ./env/lib/python3.11/site-packages (1.4.0)\n",
            "Collecting transformers\n",
            "  Downloading transformers-4.36.2-py3-none-any.whl.metadata (126 kB)\n",
            "\u001b[2K     \u001b[90m━━━━━━━━━━━━━━━━━━━━━━━━━━━━━━━━━━━━━━━\u001b[0m \u001b[32m126.8/126.8 kB\u001b[0m \u001b[31m2.6 MB/s\u001b[0m eta \u001b[36m0:00:00\u001b[0ma \u001b[36m0:00:01\u001b[0m\n",
            "\u001b[?25hRequirement already satisfied: numpy>=1.17 in ./env/lib/python3.11/site-packages (from accelerate) (1.26.3)\n",
            "Requirement already satisfied: packaging>=20.0 in ./env/lib/python3.11/site-packages (from accelerate) (23.2)\n",
            "Requirement already satisfied: psutil in ./env/lib/python3.11/site-packages (from accelerate) (5.9.7)\n",
            "Requirement already satisfied: pyyaml in ./env/lib/python3.11/site-packages (from accelerate) (6.0.1)\n",
            "Requirement already satisfied: huggingface-hub in ./env/lib/python3.11/site-packages (from accelerate) (0.20.2)\n",
            "Requirement already satisfied: safetensors>=0.3.1 in ./env/lib/python3.11/site-packages (from accelerate) (0.4.1)\n",
            "Requirement already satisfied: filelock in ./env/lib/python3.11/site-packages (from torch) (3.13.1)\n",
            "Requirement already satisfied: typing-extensions in ./env/lib/python3.11/site-packages (from torch) (4.9.0)\n",
            "Requirement already satisfied: sympy in ./env/lib/python3.11/site-packages (from torch) (1.12)\n",
            "Requirement already satisfied: networkx in ./env/lib/python3.11/site-packages (from torch) (3.2.1)\n",
            "Requirement already satisfied: jinja2 in ./env/lib/python3.11/site-packages (from torch) (3.1.3)\n",
            "Requirement already satisfied: fsspec in ./env/lib/python3.11/site-packages (from torch) (2023.12.2)\n",
            "Requirement already satisfied: scipy>=1.6.0 in ./env/lib/python3.11/site-packages (from scikit-learn) (1.11.4)\n",
            "Requirement already satisfied: joblib>=1.2.0 in ./env/lib/python3.11/site-packages (from scikit-learn) (1.3.2)\n",
            "Requirement already satisfied: threadpoolctl>=2.0.0 in ./env/lib/python3.11/site-packages (from scikit-learn) (3.2.0)\n",
            "Requirement already satisfied: regex!=2019.12.17 in ./env/lib/python3.11/site-packages (from transformers) (2023.12.25)\n",
            "Requirement already satisfied: requests in ./env/lib/python3.11/site-packages (from transformers) (2.31.0)\n",
            "Collecting tokenizers<0.19,>=0.14 (from transformers)\n",
            "  Downloading tokenizers-0.15.0-cp311-cp311-macosx_11_0_arm64.whl.metadata (6.7 kB)\n",
            "Requirement already satisfied: tqdm>=4.27 in ./env/lib/python3.11/site-packages (from transformers) (4.66.1)\n",
            "Requirement already satisfied: MarkupSafe>=2.0 in ./env/lib/python3.11/site-packages (from jinja2->torch) (2.1.3)\n",
            "Requirement already satisfied: charset-normalizer<4,>=2 in ./env/lib/python3.11/site-packages (from requests->transformers) (3.3.2)\n",
            "Requirement already satisfied: idna<4,>=2.5 in ./env/lib/python3.11/site-packages (from requests->transformers) (3.6)\n",
            "Requirement already satisfied: urllib3<3,>=1.21.1 in ./env/lib/python3.11/site-packages (from requests->transformers) (2.1.0)\n",
            "Requirement already satisfied: certifi>=2017.4.17 in ./env/lib/python3.11/site-packages (from requests->transformers) (2023.11.17)\n",
            "Requirement already satisfied: mpmath>=0.19 in ./env/lib/python3.11/site-packages (from sympy->torch) (1.3.0)\n",
            "Downloading transformers-4.36.2-py3-none-any.whl (8.2 MB)\n",
            "\u001b[2K   \u001b[90m━━━━━━━━━━━━━━━━━━━━━━━━━━━━━━━━━━━━━━━━\u001b[0m \u001b[32m8.2/8.2 MB\u001b[0m \u001b[31m10.9 MB/s\u001b[0m eta \u001b[36m0:00:00\u001b[0ma \u001b[36m0:00:01\u001b[0m\n",
            "\u001b[?25hDownloading tokenizers-0.15.0-cp311-cp311-macosx_11_0_arm64.whl (2.5 MB)\n",
            "\u001b[2K   \u001b[90m━━━━━━━━━━━━━━━━━━━━━━━━━━━━━━━━━━━━━━━━\u001b[0m \u001b[32m2.5/2.5 MB\u001b[0m \u001b[31m17.2 MB/s\u001b[0m eta \u001b[36m0:00:00\u001b[0ma \u001b[36m0:00:01\u001b[0m\n",
            "\u001b[?25hInstalling collected packages: tokenizers, transformers\n",
            "Successfully installed tokenizers-0.15.0 transformers-4.36.2\n",
            "\n",
            "\u001b[1m[\u001b[0m\u001b[34;49mnotice\u001b[0m\u001b[1;39;49m]\u001b[0m\u001b[39;49m A new release of pip is available: \u001b[0m\u001b[31;49m23.3.1\u001b[0m\u001b[39;49m -> \u001b[0m\u001b[32;49m23.3.2\u001b[0m\n",
            "\u001b[1m[\u001b[0m\u001b[34;49mnotice\u001b[0m\u001b[1;39;49m]\u001b[0m\u001b[39;49m To update, run: \u001b[0m\u001b[32;49mpip install --upgrade pip\u001b[0m\n"
          ]
        }
      ],
      "source": [
        "! pip install accelerate torch scikit-learn transformers"
      ]
    },
    {
      "cell_type": "code",
      "execution_count": 1,
      "metadata": {
        "id": "mz_a1ixPmTqy"
      },
      "outputs": [],
      "source": [
        "import os\n",
        "import numpy as np\n",
        "import pandas as pd\n",
        "\n",
        "import torch\n",
        "from torch.utils.data import DataLoader, Dataset\n",
        "from transformers import Trainer, TrainingArguments, EvalPrediction\n",
        "from transformers import AutoTokenizer, AutoModelForSequenceClassification\n",
        "\n",
        "from sklearn.metrics import accuracy_score, f1_score\n",
        "from sklearn.metrics import precision_recall_curve\n",
        "\n",
        "import matplotlib.pyplot as plt\n",
        "\n",
        "%matplotlib inline\n",
        "\n",
        "device = 'cuda' if torch.cuda.is_available() else 'cpu'"
      ]
    },
    {
      "cell_type": "code",
      "execution_count": 2,
      "metadata": {
        "colab": {
          "base_uri": "https://localhost:8080/",
          "height": 293
        },
        "id": "XXR0Inb5mkb_",
        "outputId": "cbd18ab3-bc90-49b8-960f-c2a2d49bb079"
      },
      "outputs": [
        {
          "data": {
            "text/html": [
              "<div>\n",
              "<style scoped>\n",
              "    .dataframe tbody tr th:only-of-type {\n",
              "        vertical-align: middle;\n",
              "    }\n",
              "\n",
              "    .dataframe tbody tr th {\n",
              "        vertical-align: top;\n",
              "    }\n",
              "\n",
              "    .dataframe thead th {\n",
              "        text-align: right;\n",
              "    }\n",
              "</style>\n",
              "<table border=\"1\" class=\"dataframe\">\n",
              "  <thead>\n",
              "    <tr style=\"text-align: right;\">\n",
              "      <th></th>\n",
              "      <th>is_positive</th>\n",
              "      <th>id</th>\n",
              "      <th>datetime</th>\n",
              "      <th>user</th>\n",
              "      <th>message</th>\n",
              "      <th>bart_is_positive</th>\n",
              "    </tr>\n",
              "  </thead>\n",
              "  <tbody>\n",
              "    <tr>\n",
              "      <th>0</th>\n",
              "      <td>0</td>\n",
              "      <td>2200003313</td>\n",
              "      <td>Tue Jun 16 18:18:13 PDT 2009</td>\n",
              "      <td>DEWGetMeTho77</td>\n",
              "      <td>@Nkluvr4eva My poor little dumpling  In Holmde...</td>\n",
              "      <td>0.005163</td>\n",
              "    </tr>\n",
              "    <tr>\n",
              "      <th>1</th>\n",
              "      <td>0</td>\n",
              "      <td>1467998601</td>\n",
              "      <td>Mon Apr 06 23:11:18 PDT 2009</td>\n",
              "      <td>Young_J</td>\n",
              "      <td>I'm off too bed. I gotta wake up hella early t...</td>\n",
              "      <td>0.339430</td>\n",
              "    </tr>\n",
              "    <tr>\n",
              "      <th>2</th>\n",
              "      <td>0</td>\n",
              "      <td>2300049112</td>\n",
              "      <td>Tue Jun 23 13:40:12 PDT 2009</td>\n",
              "      <td>dougnawoschik</td>\n",
              "      <td>I havent been able to listen to it yet  My spe...</td>\n",
              "      <td>0.065703</td>\n",
              "    </tr>\n",
              "    <tr>\n",
              "      <th>3</th>\n",
              "      <td>0</td>\n",
              "      <td>1993474319</td>\n",
              "      <td>Mon Jun 01 10:26:09 PDT 2009</td>\n",
              "      <td>thireven</td>\n",
              "      <td>now remembers why solving a relatively big equ...</td>\n",
              "      <td>0.004046</td>\n",
              "    </tr>\n",
              "    <tr>\n",
              "      <th>4</th>\n",
              "      <td>0</td>\n",
              "      <td>2256551006</td>\n",
              "      <td>Sat Jun 20 12:56:51 PDT 2009</td>\n",
              "      <td>taracollins086</td>\n",
              "      <td>Ate too much, feel sick</td>\n",
              "      <td>0.000581</td>\n",
              "    </tr>\n",
              "  </tbody>\n",
              "</table>\n",
              "</div>"
            ],
            "text/plain": [
              "   is_positive          id                      datetime            user  \\\n",
              "0            0  2200003313  Tue Jun 16 18:18:13 PDT 2009   DEWGetMeTho77   \n",
              "1            0  1467998601  Mon Apr 06 23:11:18 PDT 2009         Young_J   \n",
              "2            0  2300049112  Tue Jun 23 13:40:12 PDT 2009   dougnawoschik   \n",
              "3            0  1993474319  Mon Jun 01 10:26:09 PDT 2009        thireven   \n",
              "4            0  2256551006  Sat Jun 20 12:56:51 PDT 2009  taracollins086   \n",
              "\n",
              "                                             message  bart_is_positive  \n",
              "0  @Nkluvr4eva My poor little dumpling  In Holmde...          0.005163  \n",
              "1  I'm off too bed. I gotta wake up hella early t...          0.339430  \n",
              "2  I havent been able to listen to it yet  My spe...          0.065703  \n",
              "3  now remembers why solving a relatively big equ...          0.004046  \n",
              "4                           Ate too much, feel sick           0.000581  "
            ]
          },
          "execution_count": 2,
          "metadata": {},
          "output_type": "execute_result"
        }
      ],
      "source": [
        "twitter_data = pd.read_csv(\"data/twitter_dataset_small_w_bart_preds.csv\")\n",
        "twitter_data.head()"
      ]
    },
    {
      "cell_type": "code",
      "execution_count": 3,
      "metadata": {
        "colab": {
          "base_uri": "https://localhost:8080/"
        },
        "id": "aBhVGQbom6qt",
        "outputId": "4c3c7fd6-f858-4737-c8cd-34a8c3e26c59"
      },
      "outputs": [
        {
          "name": "stderr",
          "output_type": "stream",
          "text": [
            "Some weights of RobertaForSequenceClassification were not initialized from the model checkpoint at distilroberta-base and are newly initialized: ['classifier.dense.bias', 'classifier.out_proj.weight', 'classifier.dense.weight', 'classifier.out_proj.bias']\n",
            "You should probably TRAIN this model on a down-stream task to be able to use it for predictions and inference.\n"
          ]
        }
      ],
      "source": [
        "# loading a pre-trained model for sequence classification\n",
        "\n",
        "model = AutoModelForSequenceClassification.from_pretrained(\"distilroberta-base\")\n",
        "\n",
        "# AutoTokenizer class to automatically select the tokenizer based on the specified architecture (\"distilroberta-base\")\n",
        "\n",
        "tokenizer = AutoTokenizer.from_pretrained(\"distilroberta-base\")"
      ]
    },
    {
      "cell_type": "code",
      "execution_count": 4,
      "metadata": {
        "id": "m4cp1CAVnRjM"
      },
      "outputs": [
        {
          "name": "stdout",
          "output_type": "stream",
          "text": [
            "(1600, 2) (18400, 2)\n"
          ]
        }
      ],
      "source": [
        "# splitting the training and testing data\n",
        "\n",
        "train_data_pd = twitter_data[[\"is_positive\", \"message\"]][:1600]\n",
        "test_data_pd = twitter_data[[\"is_positive\", \"message\"]][1600:]\n",
        "\n",
        "print(train_data_pd.shape, test_data_pd.shape)"
      ]
    },
    {
      "cell_type": "code",
      "execution_count": null,
      "metadata": {},
      "outputs": [],
      "source": []
    },
    {
      "cell_type": "code",
      "execution_count": null,
      "metadata": {},
      "outputs": [],
      "source": []
    },
    {
      "cell_type": "code",
      "execution_count": 5,
      "metadata": {
        "id": "okFf1GSPrnsO"
      },
      "outputs": [],
      "source": [
        "class TweetData(Dataset):\n",
        "  def __init__(self, data):\n",
        "    super().__init__()\n",
        "    self.data = data\n",
        "\n",
        "  def __len__(self) -> int:\n",
        "    return len(self.data)\n",
        "\n",
        "  def __getitem__(self, i):\n",
        "    return self.data.iloc[i]\n",
        "\n",
        "train_data = TweetData(train_data_pd)\n",
        "test_data = TweetData(test_data_pd)"
      ]
    },
    {
      "cell_type": "code",
      "execution_count": 6,
      "metadata": {
        "id": "jBN5gpRLoQLy"
      },
      "outputs": [],
      "source": [
        "#tokenizer.batch_encode_plus(list(train_data[\"message\"][:10]), truncation=True, padding=True, max_length=tokenizer.max_len_single_sentence, return_tensors=\"pt\")"
      ]
    },
    {
      "cell_type": "code",
      "execution_count": 7,
      "metadata": {
        "id": "uaEsSyXCnd_z"
      },
      "outputs": [],
      "source": [
        "# processing the data before feeding it to the model during training or evaluation\n",
        "\n",
        "def collate_fn(data):\n",
        "  data = pd.DataFrame(data)\n",
        "  model_input = tokenizer.batch_encode_plus(list(data[\"message\"]), truncation=True, padding=True, max_length=tokenizer.max_len_single_sentence, return_tensors=\"pt\")\n",
        "  model_input[\"labels\"] = torch.tensor(list(data[\"is_positive\"]))\n",
        "  #for k in model_input:\n",
        "  #  model_input[k] = model_input[k].to(device)\n",
        "  return model_input\n",
        "\n",
        "#train_dataloader = DataLoader(train_data, batch_size=32, collate_fn=collate_fn)"
      ]
    },
    {
      "cell_type": "code",
      "execution_count": 8,
      "metadata": {
        "id": "fUc1P-Xbqy6I"
      },
      "outputs": [],
      "source": [
        "def compute_metrics(pred: EvalPrediction):\n",
        "  labels = pred.label_ids\n",
        "  preds = pred.predictions.argmax(-1)\n",
        "  f1 = f1_score(labels, preds,)\n",
        "  acc = accuracy_score(labels, preds,)\n",
        "  return {\"accuracy\": acc, \"f1\": f1}"
      ]
    },
    {
      "cell_type": "code",
      "execution_count": 9,
      "metadata": {
        "id": "uq4faqraqVLE"
      },
      "outputs": [],
      "source": [
        "trainer = Trainer(model=model, args=TrainingArguments(output_dir=\"distilroberta-cls\", per_device_train_batch_size=32, evaluation_strategy='epoch'), data_collator=collate_fn, train_dataset=train_data, eval_dataset=test_data, compute_metrics=compute_metrics)"
      ]
    },
    {
      "cell_type": "code",
      "execution_count": 10,
      "metadata": {
        "colab": {
          "base_uri": "https://localhost:8080/",
          "height": 223
        },
        "id": "DlUB_u77qYjC",
        "outputId": "3b6e3822-88be-45b8-bf4c-54e1b19a04c8"
      },
      "outputs": [
        {
          "data": {
            "application/vnd.jupyter.widget-view+json": {
              "model_id": "362712d5b54a4198a0c6267713076d3f",
              "version_major": 2,
              "version_minor": 0
            },
            "text/plain": [
              "  0%|          | 0/150 [00:00<?, ?it/s]"
            ]
          },
          "metadata": {},
          "output_type": "display_data"
        }
      ],
      "source": [
        "trainer.train()"
      ]
    },
    {
      "cell_type": "code",
      "execution_count": null,
      "metadata": {
        "colab": {
          "base_uri": "https://localhost:8080/",
          "height": 17
        },
        "id": "P4JIltn0DlpV",
        "outputId": "8cb8652a-d623-4ccd-8484-ca30d3ded2ca"
      },
      "outputs": [
        {
          "data": {
            "text/html": [],
            "text/plain": [
              "<IPython.core.display.HTML object>"
            ]
          },
          "metadata": {},
          "output_type": "display_data"
        }
      ],
      "source": [
        "out = trainer.predict(test_data)"
      ]
    },
    {
      "cell_type": "code",
      "execution_count": null,
      "metadata": {
        "id": "1GqFGd75FHbZ"
      },
      "outputs": [],
      "source": [
        "roberta_is_positive = torch.sigmoid(torch.tensor(out.predictions[:, 1]))\n",
        "bart_is_positive = twitter_data[1600:][\"bart_is_positive\"]"
      ]
    },
    {
      "cell_type": "code",
      "execution_count": null,
      "metadata": {
        "colab": {
          "base_uri": "https://localhost:8080/"
        },
        "id": "dSabkBpW6ejj",
        "outputId": "9bddd8a4-b35f-4cd7-fb82-1609fdc81473"
      },
      "outputs": [
        {
          "data": {
            "text/plain": [
              "1600     0.001065\n",
              "1601     0.973015\n",
              "1602     0.989837\n",
              "1603     0.002276\n",
              "1604     0.594086\n",
              "           ...   \n",
              "19995    0.886532\n",
              "19996    0.001541\n",
              "19997    0.326061\n",
              "19998    0.881646\n",
              "19999    0.095757\n",
              "Name: bart_is_positive, Length: 18400, dtype: float64"
            ]
          },
          "execution_count": 85,
          "metadata": {},
          "output_type": "execute_result"
        }
      ],
      "source": [
        "bart_is_positive\n"
      ]
    },
    {
      "cell_type": "code",
      "execution_count": null,
      "metadata": {
        "id": "EGdEHs68CKn3"
      },
      "outputs": [],
      "source": [
        "labels = twitter_data[1600:][\"is_positive\"]\n",
        "roberta_pr_curve = precision_recall_curve(labels, roberta_is_positive)\n",
        "bart_pr_curve = precision_recall_curve(labels, bart_is_positive)"
      ]
    },
    {
      "cell_type": "code",
      "execution_count": null,
      "metadata": {
        "colab": {
          "base_uri": "https://localhost:8080/"
        },
        "id": "KVRf6-M7HflF",
        "outputId": "9dff6788-4ad0-4622-c388-4d3ce5eda520"
      },
      "outputs": [
        {
          "data": {
            "text/plain": [
              "(array([0.50342391, 0.50345127, 0.50347864, ..., 1.        , 1.        ,\n",
              "        1.        ]),\n",
              " array([1.00000000e+00, 1.00000000e+00, 1.00000000e+00, ...,\n",
              "        2.15912771e-04, 1.07956386e-04, 0.00000000e+00]),\n",
              " array([0.00571883, 0.00586382, 0.00590513, ..., 0.9946202 , 0.99466705,\n",
              "        0.9947314 ], dtype=float32))"
            ]
          },
          "execution_count": 80,
          "metadata": {},
          "output_type": "execute_result"
        }
      ],
      "source": [
        "roberta_pr_curve"
      ]
    },
    {
      "cell_type": "code",
      "execution_count": null,
      "metadata": {
        "colab": {
          "base_uri": "https://localhost:8080/",
          "height": 718
        },
        "id": "iSGi2yJkCe2c",
        "outputId": "21b0cf21-cb31-4e00-dc93-f1f13a7ead4f"
      },
      "outputs": [
        {
          "data": {
            "image/png": "[encoded data removed]",
            "text/plain": [
              "<Figure size 700x800 with 1 Axes>"
            ]
          },
          "metadata": {},
          "output_type": "display_data"
        }
      ],
      "source": [
        "from sklearn.metrics import PrecisionRecallDisplay\n",
        "\n",
        "_, ax = plt.subplots(figsize=(7, 8))\n",
        "\n",
        "f_scores = np.linspace(0.2, 0.8, num=4)\n",
        "lines, labels = [], []\n",
        "for f_score in f_scores:\n",
        "    x = np.linspace(0.01, 1)\n",
        "    y = f_score * x / (2 * x - f_score)\n",
        "    (l,) = plt.plot(x[y >= 0], y[y >= 0], color=\"gray\", alpha=0.2)\n",
        "    plt.annotate(\"f1={0:0.1f}\".format(f_score), xy=(0.9, y[45] + 0.02))\n",
        "\n",
        "display = PrecisionRecallDisplay(\n",
        "    recall=roberta_pr_curve[1],\n",
        "    precision=roberta_pr_curve[0],\n",
        ")\n",
        "display.plot(ax=ax, name=\"distilroberta-base\")\n",
        "\n",
        "display = PrecisionRecallDisplay(\n",
        "    recall=bart_pr_curve[1],\n",
        "    precision=bart_pr_curve[0],\n",
        ")\n",
        "display.plot(ax=ax, name=\"bart\")\n",
        "\n",
        "_ = display.ax_.set_title(\"Precision-Recall curve\")\n",
        "\n",
        "handles, labels = display.ax_.get_legend_handles_labels()\n",
        "handles.extend([l])\n",
        "labels.extend([\"iso-f1 curves\"])\n",
        "# set the legend and the axes\n",
        "ax.set_xlim([0.0, 1.0])\n",
        "ax.set_ylim([0.0, 1.05])\n",
        "ax.legend(handles=handles, labels=labels, loc=\"best\")\n",
        "ax.set_title(\"Extension of Precision-Recall curve to multi-class\")\n",
        "\n",
        "plt.show()\n"
      ]
    },
    {
      "cell_type": "code",
      "execution_count": null,
      "metadata": {},
      "outputs": [],
      "source": []
    }
  ],
  "metadata": {
    "accelerator": "GPU",
    "colab": {
      "gpuType": "T4",
      "provenance": []
    },
    "kernelspec": {
      "display_name": "Python 3",
      "name": "python3"
    },
    "language_info": {
      "codemirror_mode": {
        "name": "ipython",
        "version": 3
      },
      "file_extension": ".py",
      "mimetype": "text/x-python",
      "name": "python",
      "nbconvert_exporter": "python",
      "pygments_lexer": "ipython3",
      "version": "3.11.6"
    }
  },
  "nbformat": 4,
  "nbformat_minor": 0
}
